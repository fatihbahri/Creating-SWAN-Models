{
 "cells": [
  {
   "cell_type": "markdown",
   "metadata": {
    "id": "6sSlLJKJOvF_"
   },
   "source": [
    "# FRF FILES"
   ]
  },
  {
   "cell_type": "markdown",
   "metadata": {
    "id": "e0ad_2D6OyS6"
   },
   "source": [
    "## G-Drive"
   ]
  },
  {
   "cell_type": "code",
   "execution_count": 51,
   "metadata": {
    "colab": {
     "base_uri": "https://localhost:8080/"
    },
    "id": "-Y3m1iQbWOBG",
    "outputId": "6fd74c42-343d-4f61-c376-260f195def51"
   },
   "outputs": [
    {
     "data": {
      "text/plain": [
       "\"from google.colab import drive\\ndrive.mount('/gdrive')\""
      ]
     },
     "execution_count": 51,
     "metadata": {},
     "output_type": "execute_result"
    }
   ],
   "source": [
    "\"\"\"from google.colab import drive\n",
    "drive.mount('/gdrive')\"\"\""
   ]
  },
  {
   "cell_type": "markdown",
   "metadata": {
    "id": "SLSVYVzXO0wj"
   },
   "source": [
    "## Libraries"
   ]
  },
  {
   "cell_type": "code",
   "execution_count": 52,
   "metadata": {
    "id": "QgZNhwKJWR5g"
   },
   "outputs": [],
   "source": [
    "import os\n",
    "import glob\n",
    "import pandas as pd\n",
    "import numpy as np\n",
    "from scipy import interpolate\n",
    "from scipy.interpolate import interp1d\n",
    "import matplotlib.pyplot as plt\n",
    "%matplotlib inline"
   ]
  },
  {
   "cell_type": "code",
   "execution_count": 53,
   "metadata": {
    "id": "UqmR386Lnt5M"
   },
   "outputs": [],
   "source": [
    "def find_closest(array, value):\n",
    "    array = np.asarray(array)\n",
    "    idx = (np.abs(array - value)).argmin()\n",
    "    return array[idx]\n",
    "def df_column_switch(df, column1, column2):\n",
    "    i = list(df.columns)\n",
    "    a, b = i.index(column1), i.index(column2)\n",
    "    i[b], i[a] = i[a], i[b]\n",
    "    df = df[i]\n",
    "    return df"
   ]
  },
  {
   "cell_type": "code",
   "execution_count": 54,
   "metadata": {
    "id": "yf9vUpySUnNU"
   },
   "outputs": [],
   "source": [
    "dir = r'C:\\Users\\pc\\OneDrive_GTU\\OneDrive - Gebze Teknik Üniversitesi\\Tez\\Proje\\Dissipation Projects\\11 - Herbers et al. (2006) - (DUCK94)\\FRF Bottom\\Oct22'"
   ]
  },
  {
   "cell_type": "code",
   "execution_count": 55,
   "metadata": {
    "id": "Ga9Zjo1TWjWL"
   },
   "outputs": [],
   "source": [
    "os.chdir(dir)"
   ]
  },
  {
   "cell_type": "code",
   "execution_count": 56,
   "metadata": {
    "id": "VYS60w0weHb0"
   },
   "outputs": [],
   "source": [
    "date = glob.glob('*.xlsx')"
   ]
  },
  {
   "cell_type": "code",
   "execution_count": 57,
   "metadata": {
    "colab": {
     "base_uri": "https://localhost:8080/"
    },
    "id": "ju3aOyxhiV16",
    "outputId": "e6040040-b349-4315-d718-47dafbf786cd"
   },
   "outputs": [
    {
     "data": {
      "text/plain": [
       "['19940803_FRF-new.xlsx',\n",
       " '19940810_FRF-new.xlsx',\n",
       " '19940812_FRF-new.xlsx',\n",
       " '19940816_FRF-new.xlsx',\n",
       " '19940818_FRF-new.xlsx']"
      ]
     },
     "execution_count": 57,
     "metadata": {},
     "output_type": "execute_result"
    }
   ],
   "source": [
    "date[0:5]"
   ]
  },
  {
   "cell_type": "markdown",
   "metadata": {
    "id": "IMLatTVnO3oR"
   },
   "source": [
    "## Interpolation Process"
   ]
  },
  {
   "cell_type": "code",
   "execution_count": 58,
   "metadata": {
    "id": "zlSOzlRgXpDR"
   },
   "outputs": [],
   "source": [
    "#o = -1"
   ]
  },
  {
   "cell_type": "code",
   "execution_count": 59,
   "metadata": {
    "colab": {
     "base_uri": "https://localhost:8080/",
     "height": 36
    },
    "id": "J7vmucWkgRAj",
    "outputId": "7e05027b-a0ca-4fed-da22-3646e3b8d7d3"
   },
   "outputs": [
    {
     "data": {
      "text/plain": [
       "'19941121_FRF-new.xlsx'"
      ]
     },
     "execution_count": 59,
     "metadata": {},
     "output_type": "execute_result"
    }
   ],
   "source": [
    "date[o]"
   ]
  },
  {
   "cell_type": "code",
   "execution_count": 60,
   "metadata": {
    "id": "-a5EaRwIXErN"
   },
   "outputs": [],
   "source": [
    "Data1 = pd.read_excel(date[o])\n",
    "Data1 = Data1[['Profile Number', 'xFRF', 'yFRF', 'Elevation', 'Date']]\n",
    "Datalow = Data1.loc[(Data1['Profile Number'] == 905)].reset_index()\n",
    "Datahigh = Data1.loc[(Data1['Profile Number'] == 937)].reset_index()"
   ]
  },
  {
   "cell_type": "markdown",
   "metadata": {},
   "source": [
    "y_value defines longshore distance (y-axis) where the sensors located in DUCK94"
   ]
  },
  {
   "cell_type": "code",
   "execution_count": 61,
   "metadata": {
    "id": "fgAajhyTpyiQ"
   },
   "outputs": [],
   "source": [
    "y_value = 929"
   ]
  },
  {
   "cell_type": "markdown",
   "metadata": {},
   "source": [
    "It will find out the closest 2 profiles to the sensor locations"
   ]
  },
  {
   "cell_type": "code",
   "execution_count": 62,
   "metadata": {
    "id": "L4e9Pxmlm-Or"
   },
   "outputs": [],
   "source": [
    "p_num = find_closest(Data1['Profile Number'].values,value=y_value)"
   ]
  },
  {
   "cell_type": "code",
   "execution_count": 63,
   "metadata": {
    "id": "c9hih78toD3H"
   },
   "outputs": [],
   "source": [
    "if p_num < y_value:\n",
    "  Data_up = Data1.loc[(Data1['Profile Number'] > p_num)]\n",
    "  Datahigh = Data_up[(Data_up['Profile Number'] == Data_up['Profile Number'].values.min())]\n",
    "  Data2 = Data1.loc[(Data1['Profile Number'] < y_value)]\n",
    "  Datalow = Data2[(Data2['Profile Number'] == Data2['Profile Number'].values.max())]\n",
    "elif p_num > y_value:\n",
    "  Data_down = Data1.loc[(Data1['Profile Number'] < p_num)]\n",
    "  Datalow = Data_down[(Data_down['Profile Number'] == Data_down['Profile Number'].values.max())]\n",
    "  Data2 = Data1.loc[(Data1['Profile Number'] > y_value)]\n",
    "  Datahigh = Data2[(Data2['Profile Number'] == Data2['Profile Number'].values.min())]"
   ]
  },
  {
   "cell_type": "code",
   "execution_count": 98,
   "metadata": {},
   "outputs": [
    {
     "data": {
      "text/plain": [
       "'19941121_FRF-new.xlsx'"
      ]
     },
     "execution_count": 98,
     "metadata": {},
     "output_type": "execute_result"
    }
   ],
   "source": [
    "date[o]"
   ]
  },
  {
   "cell_type": "code",
   "execution_count": 99,
   "metadata": {
    "colab": {
     "base_uri": "https://localhost:8080/",
     "height": 266
    },
    "id": "E9WiHuvhOTSl",
    "outputId": "94e52226-f565-400a-f980-fa4b4b1880dc"
   },
   "outputs": [
    {
     "data": {
      "image/png": "[encoded data removed]",
      "text/plain": [
       "<Figure size 864x504 with 1 Axes>"
      ]
     },
     "metadata": {
      "needs_background": "light"
     },
     "output_type": "display_data"
    }
   ],
   "source": [
    "label1= 'y=' + str(Middle_1.y.values[0])\n",
    "label2 = 'y=' + str(Middle_2.y.values[0])\n",
    "plt.figure(figsize=(12, 7))\n",
    "plt.plot(Datalow.xFRF.values,Datalow.Elevation.values, label=label1)\n",
    "# plt.show()\n",
    "plt.plot(Datahigh.xFRF.values,Datahigh.Elevation.values, label=label2)\n",
    "plt.plot(Datalow.xFRF.values, [0]*len(Datalow.Elevation.values), 'k--', label='SWL')\n",
    "plt.legend(loc='best')\n",
    "plt.title(\"Profiles in 1994-11-21\")\n",
    "plt.show()"
   ]
  },
  {
   "cell_type": "markdown",
   "metadata": {},
   "source": [
    "Datalow & Datahigh shows the profiles which will interpolate to y_value"
   ]
  },
  {
   "cell_type": "markdown",
   "metadata": {},
   "source": [
    "But those profiles doesn't start and end same point in x-axis (cross-shore). Therefore, common points will interpolate. Tail of the ultimate profile will be the tail of long profile of them.\n",
    "Head of the ultimate profile will assume starts same point."
   ]
  },
  {
   "cell_type": "code",
   "execution_count": 65,
   "metadata": {
    "id": "bGEY-AjjvT2z"
   },
   "outputs": [],
   "source": [
    "if Datahigh.xFRF.values.max() < Datalow.xFRF.values.max():\n",
    "  Middle1 = Datalow.loc[(Datalow['xFRF'] < Datahigh.xFRF.values.max())]\n",
    "  Middle2 = Datahigh\n",
    "  Tail = Datalow.loc[(Datalow['xFRF'] > Datahigh.xFRF.values.max())]\n",
    "else:\n",
    "  Middle1 = Datahigh.loc[(Datahigh['xFRF'] < Datalow.xFRF.values.max())]\n",
    "  Middle2 = Datalow\n",
    "  Tail = Datahigh.loc[(Datahigh['xFRF'] > Datalow.xFRF.values.max())]"
   ]
  },
  {
   "cell_type": "code",
   "execution_count": 66,
   "metadata": {
    "colab": {
     "base_uri": "https://localhost:8080/",
     "height": 267
    },
    "id": "dAFZburiwPpR",
    "outputId": "5330d3aa-9d0c-4513-ced7-8d79f856fba1"
   },
   "outputs": [
    {
     "data": {
      "image/png": "[encoded data removed]",
      "text/plain": [
       "<Figure size 432x288 with 1 Axes>"
      ]
     },
     "metadata": {
      "needs_background": "light"
     },
     "output_type": "display_data"
    }
   ],
   "source": [
    "plt.plot(Middle1.xFRF.values,Middle1.Elevation.values)\n",
    "# plt.show()\n",
    "plt.plot(Middle2.xFRF.values,Middle2.Elevation.values)\n",
    "plt.title(\"Profiles which will interpolate\")\n",
    "plt.show()"
   ]
  },
  {
   "cell_type": "code",
   "execution_count": 67,
   "metadata": {
    "id": "9q6GO4i62wKj"
   },
   "outputs": [],
   "source": [
    "first_y = Middle1['Profile Number'].values[0]\n",
    "second_y = Middle2['Profile Number'].values[0]"
   ]
  },
  {
   "cell_type": "markdown",
   "metadata": {},
   "source": [
    "X values will be integer"
   ]
  },
  {
   "cell_type": "code",
   "execution_count": 68,
   "metadata": {
    "colab": {
     "base_uri": "https://localhost:8080/",
     "height": 423
    },
    "id": "7lLXnxC3vguf",
    "outputId": "693f52ea-4c79-4b90-9ffa-14c0a604cdc6"
   },
   "outputs": [
    {
     "data": {
      "text/html": [
       "<div>\n",
       "<style scoped>\n",
       "    .dataframe tbody tr th:only-of-type {\n",
       "        vertical-align: middle;\n",
       "    }\n",
       "\n",
       "    .dataframe tbody tr th {\n",
       "        vertical-align: top;\n",
       "    }\n",
       "\n",
       "    .dataframe thead th {\n",
       "        text-align: right;\n",
       "    }\n",
       "</style>\n",
       "<table border=\"1\" class=\"dataframe\">\n",
       "  <thead>\n",
       "    <tr style=\"text-align: right;\">\n",
       "      <th></th>\n",
       "      <th>x</th>\n",
       "      <th>Elevation</th>\n",
       "      <th>y</th>\n",
       "    </tr>\n",
       "  </thead>\n",
       "  <tbody>\n",
       "    <tr>\n",
       "      <th>0</th>\n",
       "      <td>46</td>\n",
       "      <td>6.430655</td>\n",
       "      <td>914</td>\n",
       "    </tr>\n",
       "    <tr>\n",
       "      <th>1</th>\n",
       "      <td>47</td>\n",
       "      <td>6.493490</td>\n",
       "      <td>914</td>\n",
       "    </tr>\n",
       "    <tr>\n",
       "      <th>2</th>\n",
       "      <td>48</td>\n",
       "      <td>6.556326</td>\n",
       "      <td>914</td>\n",
       "    </tr>\n",
       "    <tr>\n",
       "      <th>3</th>\n",
       "      <td>49</td>\n",
       "      <td>6.639326</td>\n",
       "      <td>914</td>\n",
       "    </tr>\n",
       "    <tr>\n",
       "      <th>4</th>\n",
       "      <td>50</td>\n",
       "      <td>6.744172</td>\n",
       "      <td>914</td>\n",
       "    </tr>\n",
       "    <tr>\n",
       "      <th>...</th>\n",
       "      <td>...</td>\n",
       "      <td>...</td>\n",
       "      <td>...</td>\n",
       "    </tr>\n",
       "    <tr>\n",
       "      <th>332</th>\n",
       "      <td>378</td>\n",
       "      <td>-4.117098</td>\n",
       "      <td>914</td>\n",
       "    </tr>\n",
       "    <tr>\n",
       "      <th>333</th>\n",
       "      <td>379</td>\n",
       "      <td>-4.138959</td>\n",
       "      <td>914</td>\n",
       "    </tr>\n",
       "    <tr>\n",
       "      <th>334</th>\n",
       "      <td>380</td>\n",
       "      <td>-4.138132</td>\n",
       "      <td>914</td>\n",
       "    </tr>\n",
       "    <tr>\n",
       "      <th>335</th>\n",
       "      <td>381</td>\n",
       "      <td>-4.156000</td>\n",
       "      <td>914</td>\n",
       "    </tr>\n",
       "    <tr>\n",
       "      <th>336</th>\n",
       "      <td>382</td>\n",
       "      <td>-4.174914</td>\n",
       "      <td>914</td>\n",
       "    </tr>\n",
       "  </tbody>\n",
       "</table>\n",
       "<p>337 rows × 3 columns</p>\n",
       "</div>"
      ],
      "text/plain": [
       "       x  Elevation    y\n",
       "0     46   6.430655  914\n",
       "1     47   6.493490  914\n",
       "2     48   6.556326  914\n",
       "3     49   6.639326  914\n",
       "4     50   6.744172  914\n",
       "..   ...        ...  ...\n",
       "332  378  -4.117098  914\n",
       "333  379  -4.138959  914\n",
       "334  380  -4.138132  914\n",
       "335  381  -4.156000  914\n",
       "336  382  -4.174914  914\n",
       "\n",
       "[337 rows x 3 columns]"
      ]
     },
     "execution_count": 68,
     "metadata": {},
     "output_type": "execute_result"
    }
   ],
   "source": [
    "x_veri = Middle1.xFRF.values\n",
    "d_veri = Middle1.Elevation.values\n",
    "\n",
    "x = np.arange(int(x_veri.min()+1), int(x_veri.max()), 1)\n",
    "\n",
    "f = interpolate.interp1d(x_veri, d_veri, kind='linear')\n",
    "d = f(x)\n",
    "y_1 = [first_y]*len(x)\n",
    "Middle_1 = pd.DataFrame({'x': x, 'Elevation': d, 'y': y_1})\n",
    "Middle_1"
   ]
  },
  {
   "cell_type": "code",
   "execution_count": 69,
   "metadata": {
    "colab": {
     "base_uri": "https://localhost:8080/",
     "height": 423
    },
    "id": "ro8lI8jVyjKt",
    "outputId": "d494e4a8-71a5-4f31-bac6-104294b1b01e"
   },
   "outputs": [
    {
     "data": {
      "text/html": [
       "<div>\n",
       "<style scoped>\n",
       "    .dataframe tbody tr th:only-of-type {\n",
       "        vertical-align: middle;\n",
       "    }\n",
       "\n",
       "    .dataframe tbody tr th {\n",
       "        vertical-align: top;\n",
       "    }\n",
       "\n",
       "    .dataframe thead th {\n",
       "        text-align: right;\n",
       "    }\n",
       "</style>\n",
       "<table border=\"1\" class=\"dataframe\">\n",
       "  <thead>\n",
       "    <tr style=\"text-align: right;\">\n",
       "      <th></th>\n",
       "      <th>x</th>\n",
       "      <th>Elevation</th>\n",
       "      <th>y</th>\n",
       "    </tr>\n",
       "  </thead>\n",
       "  <tbody>\n",
       "    <tr>\n",
       "      <th>0</th>\n",
       "      <td>48</td>\n",
       "      <td>6.164632</td>\n",
       "      <td>960</td>\n",
       "    </tr>\n",
       "    <tr>\n",
       "      <th>1</th>\n",
       "      <td>49</td>\n",
       "      <td>6.458153</td>\n",
       "      <td>960</td>\n",
       "    </tr>\n",
       "    <tr>\n",
       "      <th>2</th>\n",
       "      <td>50</td>\n",
       "      <td>6.691550</td>\n",
       "      <td>960</td>\n",
       "    </tr>\n",
       "    <tr>\n",
       "      <th>3</th>\n",
       "      <td>51</td>\n",
       "      <td>6.745536</td>\n",
       "      <td>960</td>\n",
       "    </tr>\n",
       "    <tr>\n",
       "      <th>4</th>\n",
       "      <td>52</td>\n",
       "      <td>6.799522</td>\n",
       "      <td>960</td>\n",
       "    </tr>\n",
       "    <tr>\n",
       "      <th>...</th>\n",
       "      <td>...</td>\n",
       "      <td>...</td>\n",
       "      <td>...</td>\n",
       "    </tr>\n",
       "    <tr>\n",
       "      <th>330</th>\n",
       "      <td>378</td>\n",
       "      <td>-4.114012</td>\n",
       "      <td>960</td>\n",
       "    </tr>\n",
       "    <tr>\n",
       "      <th>331</th>\n",
       "      <td>379</td>\n",
       "      <td>-4.131998</td>\n",
       "      <td>960</td>\n",
       "    </tr>\n",
       "    <tr>\n",
       "      <th>332</th>\n",
       "      <td>380</td>\n",
       "      <td>-4.142133</td>\n",
       "      <td>960</td>\n",
       "    </tr>\n",
       "    <tr>\n",
       "      <th>333</th>\n",
       "      <td>381</td>\n",
       "      <td>-4.154120</td>\n",
       "      <td>960</td>\n",
       "    </tr>\n",
       "    <tr>\n",
       "      <th>334</th>\n",
       "      <td>382</td>\n",
       "      <td>-4.174951</td>\n",
       "      <td>960</td>\n",
       "    </tr>\n",
       "  </tbody>\n",
       "</table>\n",
       "<p>335 rows × 3 columns</p>\n",
       "</div>"
      ],
      "text/plain": [
       "       x  Elevation    y\n",
       "0     48   6.164632  960\n",
       "1     49   6.458153  960\n",
       "2     50   6.691550  960\n",
       "3     51   6.745536  960\n",
       "4     52   6.799522  960\n",
       "..   ...        ...  ...\n",
       "330  378  -4.114012  960\n",
       "331  379  -4.131998  960\n",
       "332  380  -4.142133  960\n",
       "333  381  -4.154120  960\n",
       "334  382  -4.174951  960\n",
       "\n",
       "[335 rows x 3 columns]"
      ]
     },
     "execution_count": 69,
     "metadata": {},
     "output_type": "execute_result"
    }
   ],
   "source": [
    "x_veri = Middle2.xFRF.values\n",
    "d_veri = Middle2.Elevation.values\n",
    "\n",
    "x = np.arange(int(x_veri.min()+1), int(x_veri.max()), 1)\n",
    "\n",
    "f = interpolate.interp1d(x_veri, d_veri, kind='linear')\n",
    "d = f(x)\n",
    "y_2 = [second_y]*len(x)\n",
    "Middle_2 = pd.DataFrame({'x': x, 'Elevation': d, 'y':y_2})\n",
    "Middle_2"
   ]
  },
  {
   "cell_type": "markdown",
   "metadata": {},
   "source": [
    "Defining the head of the profile"
   ]
  },
  {
   "cell_type": "code",
   "execution_count": 70,
   "metadata": {
    "id": "u5CdWj_7y-rZ"
   },
   "outputs": [],
   "source": [
    "minn = min(len(Middle_1.x.values),len(Middle_2.x.values))"
   ]
  },
  {
   "cell_type": "code",
   "execution_count": 71,
   "metadata": {
    "id": "SU08HCbjzkM5"
   },
   "outputs": [],
   "source": [
    "idx2 = len(Middle_1.x.values)-minn\n",
    "idx3 = len(Middle_2.x.values)-minn\n",
    "Middle_1 = Middle_1.iloc[idx2:, :]\n",
    "Middle_2 = Middle_2.iloc[idx3:, :]"
   ]
  },
  {
   "cell_type": "code",
   "execution_count": 72,
   "metadata": {
    "colab": {
     "base_uri": "https://localhost:8080/",
     "height": 268
    },
    "id": "z8B2jyvB0bsr",
    "outputId": "bdb93500-3a1a-41bd-bdd2-85b572ab9ae1"
   },
   "outputs": [
    {
     "data": {
      "image/png": "[encoded data removed]",
      "text/plain": [
       "<Figure size 432x288 with 1 Axes>"
      ]
     },
     "metadata": {
      "needs_background": "light"
     },
     "output_type": "display_data"
    }
   ],
   "source": [
    "label1= 'y=' + str(Middle_1.y.values[0])\n",
    "label2 = 'y=' + str(Middle_2.y.values[0])\n",
    "plt.plot(Middle_1.x.values, Middle_1.Elevation.values, label=label1)\n",
    "plt.plot(Middle_2.x.values, Middle_2.Elevation.values, label=label2)\n",
    "plt.legend(loc='best')\n",
    "plt.show()"
   ]
  },
  {
   "cell_type": "markdown",
   "metadata": {},
   "source": [
    "Interpolation between 2 profiles"
   ]
  },
  {
   "cell_type": "code",
   "execution_count": 73,
   "metadata": {
    "id": "yiHDW_zm1tM0"
   },
   "outputs": [],
   "source": [
    "y_dif = Middle_2.y.values[0]-Middle_1.y.values[0]\n",
    "Elevation_dif = np.subtract(Middle_2.Elevation.values,Middle_1.Elevation.values)\n",
    "sum_y = (Elevation_dif/y_dif)*(y_value-Middle_1.y.values[0])\n",
    "new_elevation = [a + b for a, b in zip(Middle_1.Elevation.values, sum_y)]"
   ]
  },
  {
   "cell_type": "code",
   "execution_count": 122,
   "metadata": {
    "colab": {
     "base_uri": "https://localhost:8080/",
     "height": 918
    },
    "id": "vFzqCTdj-zPa",
    "outputId": "976cc6b4-8f57-4332-9f7c-6ae83ef703f2"
   },
   "outputs": [
    {
     "data": {
      "image/png": "[encoded data removed]",
      "text/plain": [
       "<Figure size 864x504 with 1 Axes>"
      ]
     },
     "metadata": {
      "needs_background": "light"
     },
     "output_type": "display_data"
    }
   ],
   "source": [
    "label1= 'y=' + str(Middle_1.y.values[0])\n",
    "label2 = 'y=' + str(Middle_2.y.values[0])\n",
    "label3 = 'y=' + str(y_value)\n",
    "plt.figure(figsize=(12, 7))\n",
    "plt.plot(Middle_2.x.values, Middle_1.Elevation.values, label=label1)\n",
    "plt.plot(Middle_2.x.values, Middle_2.Elevation.values, label=label2)\n",
    "plt.plot(Middle_2.x.values, new_elevation, label=label3)\n",
    "plt.legend(loc='best')\n",
    "plt.title(\"Interpolated Bottom Profile\")\n",
    "plt.show()"
   ]
  },
  {
   "cell_type": "markdown",
   "metadata": {},
   "source": [
    "Create the profile without tail"
   ]
  },
  {
   "cell_type": "code",
   "execution_count": 75,
   "metadata": {
    "colab": {
     "base_uri": "https://localhost:8080/",
     "height": 423
    },
    "id": "AyyPI1T9A8G_",
    "outputId": "63f0543b-6724-4388-a064-7137dce68e82"
   },
   "outputs": [
    {
     "data": {
      "text/html": [
       "<div>\n",
       "<style scoped>\n",
       "    .dataframe tbody tr th:only-of-type {\n",
       "        vertical-align: middle;\n",
       "    }\n",
       "\n",
       "    .dataframe tbody tr th {\n",
       "        vertical-align: top;\n",
       "    }\n",
       "\n",
       "    .dataframe thead th {\n",
       "        text-align: right;\n",
       "    }\n",
       "</style>\n",
       "<table border=\"1\" class=\"dataframe\">\n",
       "  <thead>\n",
       "    <tr style=\"text-align: right;\">\n",
       "      <th></th>\n",
       "      <th>xFRF</th>\n",
       "      <th>Elevation</th>\n",
       "      <th>yFRF</th>\n",
       "    </tr>\n",
       "  </thead>\n",
       "  <tbody>\n",
       "    <tr>\n",
       "      <th>0</th>\n",
       "      <td>48</td>\n",
       "      <td>6.428599</td>\n",
       "      <td>929</td>\n",
       "    </tr>\n",
       "    <tr>\n",
       "      <th>1</th>\n",
       "      <td>49</td>\n",
       "      <td>6.580248</td>\n",
       "      <td>929</td>\n",
       "    </tr>\n",
       "    <tr>\n",
       "      <th>2</th>\n",
       "      <td>50</td>\n",
       "      <td>6.727013</td>\n",
       "      <td>929</td>\n",
       "    </tr>\n",
       "    <tr>\n",
       "      <th>3</th>\n",
       "      <td>51</td>\n",
       "      <td>6.815274</td>\n",
       "      <td>929</td>\n",
       "    </tr>\n",
       "    <tr>\n",
       "      <th>4</th>\n",
       "      <td>52</td>\n",
       "      <td>6.893706</td>\n",
       "      <td>929</td>\n",
       "    </tr>\n",
       "    <tr>\n",
       "      <th>...</th>\n",
       "      <td>...</td>\n",
       "      <td>...</td>\n",
       "      <td>...</td>\n",
       "    </tr>\n",
       "    <tr>\n",
       "      <th>330</th>\n",
       "      <td>378</td>\n",
       "      <td>-4.116092</td>\n",
       "      <td>929</td>\n",
       "    </tr>\n",
       "    <tr>\n",
       "      <th>331</th>\n",
       "      <td>379</td>\n",
       "      <td>-4.136689</td>\n",
       "      <td>929</td>\n",
       "    </tr>\n",
       "    <tr>\n",
       "      <th>332</th>\n",
       "      <td>380</td>\n",
       "      <td>-4.139437</td>\n",
       "      <td>929</td>\n",
       "    </tr>\n",
       "    <tr>\n",
       "      <th>333</th>\n",
       "      <td>381</td>\n",
       "      <td>-4.155387</td>\n",
       "      <td>929</td>\n",
       "    </tr>\n",
       "    <tr>\n",
       "      <th>334</th>\n",
       "      <td>382</td>\n",
       "      <td>-4.174926</td>\n",
       "      <td>929</td>\n",
       "    </tr>\n",
       "  </tbody>\n",
       "</table>\n",
       "<p>335 rows × 3 columns</p>\n",
       "</div>"
      ],
      "text/plain": [
       "     xFRF  Elevation  yFRF\n",
       "0      48   6.428599   929\n",
       "1      49   6.580248   929\n",
       "2      50   6.727013   929\n",
       "3      51   6.815274   929\n",
       "4      52   6.893706   929\n",
       "..    ...        ...   ...\n",
       "330   378  -4.116092   929\n",
       "331   379  -4.136689   929\n",
       "332   380  -4.139437   929\n",
       "333   381  -4.155387   929\n",
       "334   382  -4.174926   929\n",
       "\n",
       "[335 rows x 3 columns]"
      ]
     },
     "execution_count": 75,
     "metadata": {},
     "output_type": "execute_result"
    }
   ],
   "source": [
    "profile_head = pd.DataFrame({'xFRF':Middle_2.x.values, 'Elevation':new_elevation, 'yFRF': [y_value]*len(Middle_2.x.values)})\n",
    "profile_head"
   ]
  },
  {
   "cell_type": "markdown",
   "metadata": {},
   "source": [
    "Regulate the tail and add the profile"
   ]
  },
  {
   "cell_type": "code",
   "execution_count": 76,
   "metadata": {},
   "outputs": [],
   "source": [
    "if len(Tail.xFRF.values) < 2:\n",
    "    Tail = Tail.append(Tail)"
   ]
  },
  {
   "cell_type": "code",
   "execution_count": 77,
   "metadata": {
    "id": "UV4zflaxNanB"
   },
   "outputs": [],
   "source": [
    "x_veri = Tail.xFRF.values\n",
    "d_veri = Tail.Elevation.values\n",
    "\n",
    "x = np.arange(int(x_veri.min()+1), int(x_veri.max()), 1)\n",
    "\n",
    "f = interpolate.interp1d(x_veri, d_veri, kind='linear')\n",
    "d = f(x)\n",
    "Tail_DF = pd.DataFrame({'xFRF': x, 'Elevation':d, 'yFRF': [y_value]*len(x)})"
   ]
  },
  {
   "cell_type": "code",
   "execution_count": 78,
   "metadata": {
    "id": "4fPynEwSFx3R"
   },
   "outputs": [],
   "source": [
    "Profile = pd.concat([profile_head, Tail_DF], axis=0, ignore_index=True)"
   ]
  },
  {
   "cell_type": "code",
   "execution_count": 79,
   "metadata": {
    "colab": {
     "base_uri": "https://localhost:8080/",
     "height": 265
    },
    "id": "vfTffzExL1HZ",
    "outputId": "de4e5787-7389-48b7-f74c-6a3e45f89220"
   },
   "outputs": [
    {
     "data": {
      "image/png": "[encoded data removed]",
      "text/plain": [
       "<Figure size 432x288 with 1 Axes>"
      ]
     },
     "metadata": {
      "needs_background": "light"
     },
     "output_type": "display_data"
    }
   ],
   "source": [
    "plt.plot(Profile.xFRF.values, Profile.Elevation.values)\n",
    "plt.show()"
   ]
  },
  {
   "cell_type": "code",
   "execution_count": 80,
   "metadata": {
    "colab": {
     "base_uri": "https://localhost:8080/"
    },
    "id": "CWFzJ51GNPBt",
    "outputId": "4672b5e3-492f-41e2-bb09-cb9ed675bfbc"
   },
   "outputs": [
    {
     "data": {
      "text/plain": [
       "550"
      ]
     },
     "execution_count": 80,
     "metadata": {},
     "output_type": "execute_result"
    }
   ],
   "source": [
    "Profile.xFRF.values[-1]"
   ]
  },
  {
   "cell_type": "markdown",
   "metadata": {},
   "source": [
    "In DUCK94 there is another sensor in location 884.1 m"
   ]
  },
  {
   "cell_type": "markdown",
   "metadata": {},
   "source": [
    "Bottom elevation of that point is approximately 7.943m"
   ]
  },
  {
   "cell_type": "markdown",
   "metadata": {},
   "source": [
    "We assume that the profile has a straight line in the tail from 550 to 884 (m)"
   ]
  },
  {
   "cell_type": "code",
   "execution_count": 81,
   "metadata": {
    "colab": {
     "base_uri": "https://localhost:8080/",
     "height": 423
    },
    "id": "7IoftSkTMwN8",
    "outputId": "4c21ca43-2906-4879-b139-f0611e6bef6b"
   },
   "outputs": [
    {
     "data": {
      "text/html": [
       "<div>\n",
       "<style scoped>\n",
       "    .dataframe tbody tr th:only-of-type {\n",
       "        vertical-align: middle;\n",
       "    }\n",
       "\n",
       "    .dataframe tbody tr th {\n",
       "        vertical-align: top;\n",
       "    }\n",
       "\n",
       "    .dataframe thead th {\n",
       "        text-align: right;\n",
       "    }\n",
       "</style>\n",
       "<table border=\"1\" class=\"dataframe\">\n",
       "  <thead>\n",
       "    <tr style=\"text-align: right;\">\n",
       "      <th></th>\n",
       "      <th>xFRF</th>\n",
       "      <th>Elevation</th>\n",
       "      <th>yFRF</th>\n",
       "    </tr>\n",
       "  </thead>\n",
       "  <tbody>\n",
       "    <tr>\n",
       "      <th>0</th>\n",
       "      <td>550</td>\n",
       "      <td>-5.509865</td>\n",
       "      <td>929</td>\n",
       "    </tr>\n",
       "    <tr>\n",
       "      <th>1</th>\n",
       "      <td>551</td>\n",
       "      <td>-5.517127</td>\n",
       "      <td>929</td>\n",
       "    </tr>\n",
       "    <tr>\n",
       "      <th>2</th>\n",
       "      <td>552</td>\n",
       "      <td>-5.524390</td>\n",
       "      <td>929</td>\n",
       "    </tr>\n",
       "    <tr>\n",
       "      <th>3</th>\n",
       "      <td>553</td>\n",
       "      <td>-5.531653</td>\n",
       "      <td>929</td>\n",
       "    </tr>\n",
       "    <tr>\n",
       "      <th>4</th>\n",
       "      <td>554</td>\n",
       "      <td>-5.538916</td>\n",
       "      <td>929</td>\n",
       "    </tr>\n",
       "    <tr>\n",
       "      <th>...</th>\n",
       "      <td>...</td>\n",
       "      <td>...</td>\n",
       "      <td>...</td>\n",
       "    </tr>\n",
       "    <tr>\n",
       "      <th>330</th>\n",
       "      <td>880</td>\n",
       "      <td>-7.906608</td>\n",
       "      <td>929</td>\n",
       "    </tr>\n",
       "    <tr>\n",
       "      <th>331</th>\n",
       "      <td>881</td>\n",
       "      <td>-7.913871</td>\n",
       "      <td>929</td>\n",
       "    </tr>\n",
       "    <tr>\n",
       "      <th>332</th>\n",
       "      <td>882</td>\n",
       "      <td>-7.921134</td>\n",
       "      <td>929</td>\n",
       "    </tr>\n",
       "    <tr>\n",
       "      <th>333</th>\n",
       "      <td>883</td>\n",
       "      <td>-7.928397</td>\n",
       "      <td>929</td>\n",
       "    </tr>\n",
       "    <tr>\n",
       "      <th>334</th>\n",
       "      <td>884</td>\n",
       "      <td>-7.935660</td>\n",
       "      <td>929</td>\n",
       "    </tr>\n",
       "  </tbody>\n",
       "</table>\n",
       "<p>335 rows × 3 columns</p>\n",
       "</div>"
      ],
      "text/plain": [
       "     xFRF  Elevation  yFRF\n",
       "0     550  -5.509865   929\n",
       "1     551  -5.517127   929\n",
       "2     552  -5.524390   929\n",
       "3     553  -5.531653   929\n",
       "4     554  -5.538916   929\n",
       "..    ...        ...   ...\n",
       "330   880  -7.906608   929\n",
       "331   881  -7.913871   929\n",
       "332   882  -7.921134   929\n",
       "333   883  -7.928397   929\n",
       "334   884  -7.935660   929\n",
       "\n",
       "[335 rows x 3 columns]"
      ]
     },
     "execution_count": 81,
     "metadata": {},
     "output_type": "execute_result"
    }
   ],
   "source": [
    "x_veri = [Profile.xFRF.values[-1], int(885)]\n",
    "d_veri = [Profile.Elevation.values[-1], -7.94292251039597]\n",
    "\n",
    "\n",
    "x = np.arange(int(Profile.xFRF.values[-1]), int(885), 1)\n",
    "\n",
    "f = interpolate.interp1d(x_veri, d_veri, kind='linear')\n",
    "d = f(x)\n",
    "DF0 = pd.DataFrame({'xFRF': x, 'Elevation':d, 'yFRF': [y_value]*len(x)})\n",
    "DF0"
   ]
  },
  {
   "cell_type": "markdown",
   "metadata": {},
   "source": [
    "Finally profile will look like that in 929 m"
   ]
  },
  {
   "cell_type": "code",
   "execution_count": 82,
   "metadata": {
    "colab": {
     "base_uri": "https://localhost:8080/",
     "height": 423
    },
    "id": "3jPRux8AQkj2",
    "outputId": "b2486227-c3bd-4696-d386-dab5a6fa3d0f"
   },
   "outputs": [
    {
     "data": {
      "text/html": [
       "<div>\n",
       "<style scoped>\n",
       "    .dataframe tbody tr th:only-of-type {\n",
       "        vertical-align: middle;\n",
       "    }\n",
       "\n",
       "    .dataframe tbody tr th {\n",
       "        vertical-align: top;\n",
       "    }\n",
       "\n",
       "    .dataframe thead th {\n",
       "        text-align: right;\n",
       "    }\n",
       "</style>\n",
       "<table border=\"1\" class=\"dataframe\">\n",
       "  <thead>\n",
       "    <tr style=\"text-align: right;\">\n",
       "      <th></th>\n",
       "      <th>xFRF</th>\n",
       "      <th>Elevation</th>\n",
       "      <th>yFRF</th>\n",
       "    </tr>\n",
       "  </thead>\n",
       "  <tbody>\n",
       "    <tr>\n",
       "      <th>0</th>\n",
       "      <td>48</td>\n",
       "      <td>6.428599</td>\n",
       "      <td>929</td>\n",
       "    </tr>\n",
       "    <tr>\n",
       "      <th>1</th>\n",
       "      <td>49</td>\n",
       "      <td>6.580248</td>\n",
       "      <td>929</td>\n",
       "    </tr>\n",
       "    <tr>\n",
       "      <th>2</th>\n",
       "      <td>50</td>\n",
       "      <td>6.727013</td>\n",
       "      <td>929</td>\n",
       "    </tr>\n",
       "    <tr>\n",
       "      <th>3</th>\n",
       "      <td>51</td>\n",
       "      <td>6.815274</td>\n",
       "      <td>929</td>\n",
       "    </tr>\n",
       "    <tr>\n",
       "      <th>4</th>\n",
       "      <td>52</td>\n",
       "      <td>6.893706</td>\n",
       "      <td>929</td>\n",
       "    </tr>\n",
       "    <tr>\n",
       "      <th>...</th>\n",
       "      <td>...</td>\n",
       "      <td>...</td>\n",
       "      <td>...</td>\n",
       "    </tr>\n",
       "    <tr>\n",
       "      <th>831</th>\n",
       "      <td>880</td>\n",
       "      <td>-7.906608</td>\n",
       "      <td>929</td>\n",
       "    </tr>\n",
       "    <tr>\n",
       "      <th>832</th>\n",
       "      <td>881</td>\n",
       "      <td>-7.913871</td>\n",
       "      <td>929</td>\n",
       "    </tr>\n",
       "    <tr>\n",
       "      <th>833</th>\n",
       "      <td>882</td>\n",
       "      <td>-7.921134</td>\n",
       "      <td>929</td>\n",
       "    </tr>\n",
       "    <tr>\n",
       "      <th>834</th>\n",
       "      <td>883</td>\n",
       "      <td>-7.928397</td>\n",
       "      <td>929</td>\n",
       "    </tr>\n",
       "    <tr>\n",
       "      <th>835</th>\n",
       "      <td>884</td>\n",
       "      <td>-7.935660</td>\n",
       "      <td>929</td>\n",
       "    </tr>\n",
       "  </tbody>\n",
       "</table>\n",
       "<p>836 rows × 3 columns</p>\n",
       "</div>"
      ],
      "text/plain": [
       "     xFRF  Elevation  yFRF\n",
       "0      48   6.428599   929\n",
       "1      49   6.580248   929\n",
       "2      50   6.727013   929\n",
       "3      51   6.815274   929\n",
       "4      52   6.893706   929\n",
       "..    ...        ...   ...\n",
       "831   880  -7.906608   929\n",
       "832   881  -7.913871   929\n",
       "833   882  -7.921134   929\n",
       "834   883  -7.928397   929\n",
       "835   884  -7.935660   929\n",
       "\n",
       "[836 rows x 3 columns]"
      ]
     },
     "execution_count": 82,
     "metadata": {},
     "output_type": "execute_result"
    }
   ],
   "source": [
    "Profile23 = pd.concat([Profile, DF0], axis=0, ignore_index=True)\n",
    "Profile23"
   ]
  },
  {
   "cell_type": "code",
   "execution_count": 101,
   "metadata": {},
   "outputs": [
    {
     "data": {
      "text/plain": [
       "'19941121_FRF-new.xlsx'"
      ]
     },
     "execution_count": 101,
     "metadata": {},
     "output_type": "execute_result"
    }
   ],
   "source": [
    "date[o]"
   ]
  },
  {
   "cell_type": "code",
   "execution_count": 102,
   "metadata": {
    "colab": {
     "base_uri": "https://localhost:8080/",
     "height": 265
    },
    "id": "m99Q66PCQp5X",
    "outputId": "d0875d62-0453-4907-b4c8-9b9610668f48"
   },
   "outputs": [
    {
     "data": {
      "image/png": "[encoded data removed]",
      "text/plain": [
       "<Figure size 864x504 with 1 Axes>"
      ]
     },
     "metadata": {
      "needs_background": "light"
     },
     "output_type": "display_data"
    }
   ],
   "source": [
    "plt.figure(figsize=(12, 7))\n",
    "plt.title(\"Bottom Profile in 1994-11-21 (y=929)\")\n",
    "plt.plot(Profile23.xFRF.values, Profile23.Elevation.values)\n",
    "plt.show()"
   ]
  },
  {
   "cell_type": "markdown",
   "metadata": {},
   "source": [
    "Export the profile to excel file"
   ]
  },
  {
   "cell_type": "code",
   "execution_count": 352,
   "metadata": {
    "id": "5rMl1txtRKWK"
   },
   "outputs": [],
   "source": [
    "Profile23.to_excel(dir + '\\\\..\\\\Profiles\\\\' + date[o][0:8] + '.xlsx')"
   ]
  },
  {
   "cell_type": "code",
   "execution_count": 353,
   "metadata": {
    "colab": {
     "base_uri": "https://localhost:8080/"
    },
    "id": "4RoX0eWXR8cQ",
    "outputId": "30bbb144-74b8-44b9-f2cc-d2d1cb483ab2"
   },
   "outputs": [
    {
     "name": "stdout",
     "output_type": "stream",
     "text": [
      "19941109.xlsx\n"
     ]
    }
   ],
   "source": [
    "%ls"
   ]
  },
  {
   "cell_type": "code",
   "execution_count": 34,
   "metadata": {},
   "outputs": [
    {
     "data": {
      "text/plain": [
       "0"
      ]
     },
     "execution_count": 34,
     "metadata": {},
     "output_type": "execute_result"
    }
   ],
   "source": [
    "o += 1\n",
    "o"
   ]
  },
  {
   "cell_type": "markdown",
   "metadata": {},
   "source": [
    "### Detailed Profile"
   ]
  },
  {
   "cell_type": "code",
   "execution_count": 50,
   "metadata": {},
   "outputs": [],
   "source": [
    "#o = -1"
   ]
  },
  {
   "cell_type": "code",
   "execution_count": 114,
   "metadata": {},
   "outputs": [
    {
     "data": {
      "text/html": [
       "<div>\n",
       "<style scoped>\n",
       "    .dataframe tbody tr th:only-of-type {\n",
       "        vertical-align: middle;\n",
       "    }\n",
       "\n",
       "    .dataframe tbody tr th {\n",
       "        vertical-align: top;\n",
       "    }\n",
       "\n",
       "    .dataframe thead th {\n",
       "        text-align: right;\n",
       "    }\n",
       "</style>\n",
       "<table border=\"1\" class=\"dataframe\">\n",
       "  <thead>\n",
       "    <tr style=\"text-align: right;\">\n",
       "      <th></th>\n",
       "      <th>x</th>\n",
       "      <th>Elevation</th>\n",
       "      <th>y</th>\n",
       "    </tr>\n",
       "  </thead>\n",
       "  <tbody>\n",
       "    <tr>\n",
       "      <th>78</th>\n",
       "      <td>126</td>\n",
       "      <td>-0.014293</td>\n",
       "      <td>960</td>\n",
       "    </tr>\n",
       "    <tr>\n",
       "      <th>79</th>\n",
       "      <td>127</td>\n",
       "      <td>-0.091141</td>\n",
       "      <td>960</td>\n",
       "    </tr>\n",
       "    <tr>\n",
       "      <th>80</th>\n",
       "      <td>128</td>\n",
       "      <td>-0.163232</td>\n",
       "      <td>960</td>\n",
       "    </tr>\n",
       "    <tr>\n",
       "      <th>81</th>\n",
       "      <td>129</td>\n",
       "      <td>-0.219064</td>\n",
       "      <td>960</td>\n",
       "    </tr>\n",
       "    <tr>\n",
       "      <th>82</th>\n",
       "      <td>130</td>\n",
       "      <td>-0.270788</td>\n",
       "      <td>960</td>\n",
       "    </tr>\n",
       "    <tr>\n",
       "      <th>...</th>\n",
       "      <td>...</td>\n",
       "      <td>...</td>\n",
       "      <td>...</td>\n",
       "    </tr>\n",
       "    <tr>\n",
       "      <th>330</th>\n",
       "      <td>378</td>\n",
       "      <td>-4.114012</td>\n",
       "      <td>960</td>\n",
       "    </tr>\n",
       "    <tr>\n",
       "      <th>331</th>\n",
       "      <td>379</td>\n",
       "      <td>-4.131998</td>\n",
       "      <td>960</td>\n",
       "    </tr>\n",
       "    <tr>\n",
       "      <th>332</th>\n",
       "      <td>380</td>\n",
       "      <td>-4.142133</td>\n",
       "      <td>960</td>\n",
       "    </tr>\n",
       "    <tr>\n",
       "      <th>333</th>\n",
       "      <td>381</td>\n",
       "      <td>-4.154120</td>\n",
       "      <td>960</td>\n",
       "    </tr>\n",
       "    <tr>\n",
       "      <th>334</th>\n",
       "      <td>382</td>\n",
       "      <td>-4.174951</td>\n",
       "      <td>960</td>\n",
       "    </tr>\n",
       "  </tbody>\n",
       "</table>\n",
       "<p>257 rows × 3 columns</p>\n",
       "</div>"
      ],
      "text/plain": [
       "       x  Elevation    y\n",
       "78   126  -0.014293  960\n",
       "79   127  -0.091141  960\n",
       "80   128  -0.163232  960\n",
       "81   129  -0.219064  960\n",
       "82   130  -0.270788  960\n",
       "..   ...        ...  ...\n",
       "330  378  -4.114012  960\n",
       "331  379  -4.131998  960\n",
       "332  380  -4.142133  960\n",
       "333  381  -4.154120  960\n",
       "334  382  -4.174951  960\n",
       "\n",
       "[257 rows x 3 columns]"
      ]
     },
     "execution_count": 114,
     "metadata": {},
     "output_type": "execute_result"
    }
   ],
   "source": [
    "Middle_2.loc[Middle_2['Elevation'] < 0]"
   ]
  },
  {
   "cell_type": "code",
   "execution_count": 109,
   "metadata": {},
   "outputs": [
    {
     "data": {
      "image/png": "[encoded data removed]",
      "text/plain": [
       "<Figure size 864x504 with 1 Axes>"
      ]
     },
     "metadata": {
      "needs_background": "light"
     },
     "output_type": "display_data"
    }
   ],
   "source": [
    "plt.figure(figsize=(12, 7))\n",
    "plt.title(\"Bottom Profile in 1994-11-21 (y=929)\")\n",
    "plt.plot(Middle_1.x.values, Middle_1.Elevation.values, label=\"y=914\")\n",
    "plt.plot(Middle_2.x.values, Middle_2.Elevation.values, label=\"y=960\")\n",
    "plt.plot(Profile23.xFRF.values, Profile23.Elevation.values, label=\"y=929\")\n",
    "plt.legend(loc='best')\n",
    "plt.show()"
   ]
  },
  {
   "cell_type": "code",
   "execution_count": 123,
   "metadata": {},
   "outputs": [
    {
     "data": {
      "text/html": [
       "<div>\n",
       "<style scoped>\n",
       "    .dataframe tbody tr th:only-of-type {\n",
       "        vertical-align: middle;\n",
       "    }\n",
       "\n",
       "    .dataframe tbody tr th {\n",
       "        vertical-align: top;\n",
       "    }\n",
       "\n",
       "    .dataframe thead th {\n",
       "        text-align: right;\n",
       "    }\n",
       "</style>\n",
       "<table border=\"1\" class=\"dataframe\">\n",
       "  <thead>\n",
       "    <tr style=\"text-align: right;\">\n",
       "      <th></th>\n",
       "      <th>x</th>\n",
       "      <th>Elevation</th>\n",
       "      <th>y</th>\n",
       "    </tr>\n",
       "  </thead>\n",
       "  <tbody>\n",
       "    <tr>\n",
       "      <th>83</th>\n",
       "      <td>129</td>\n",
       "      <td>-0.234217</td>\n",
       "      <td>914</td>\n",
       "    </tr>\n",
       "    <tr>\n",
       "      <th>84</th>\n",
       "      <td>130</td>\n",
       "      <td>-0.296420</td>\n",
       "      <td>914</td>\n",
       "    </tr>\n",
       "    <tr>\n",
       "      <th>85</th>\n",
       "      <td>131</td>\n",
       "      <td>-0.372327</td>\n",
       "      <td>914</td>\n",
       "    </tr>\n",
       "    <tr>\n",
       "      <th>86</th>\n",
       "      <td>132</td>\n",
       "      <td>-0.438481</td>\n",
       "      <td>914</td>\n",
       "    </tr>\n",
       "    <tr>\n",
       "      <th>87</th>\n",
       "      <td>133</td>\n",
       "      <td>-0.478147</td>\n",
       "      <td>914</td>\n",
       "    </tr>\n",
       "    <tr>\n",
       "      <th>88</th>\n",
       "      <td>134</td>\n",
       "      <td>-0.564646</td>\n",
       "      <td>914</td>\n",
       "    </tr>\n",
       "    <tr>\n",
       "      <th>89</th>\n",
       "      <td>135</td>\n",
       "      <td>-0.654678</td>\n",
       "      <td>914</td>\n",
       "    </tr>\n",
       "    <tr>\n",
       "      <th>90</th>\n",
       "      <td>136</td>\n",
       "      <td>-0.684028</td>\n",
       "      <td>914</td>\n",
       "    </tr>\n",
       "    <tr>\n",
       "      <th>91</th>\n",
       "      <td>137</td>\n",
       "      <td>-0.729124</td>\n",
       "      <td>914</td>\n",
       "    </tr>\n",
       "    <tr>\n",
       "      <th>92</th>\n",
       "      <td>138</td>\n",
       "      <td>-0.779061</td>\n",
       "      <td>914</td>\n",
       "    </tr>\n",
       "    <tr>\n",
       "      <th>93</th>\n",
       "      <td>139</td>\n",
       "      <td>-0.843080</td>\n",
       "      <td>914</td>\n",
       "    </tr>\n",
       "    <tr>\n",
       "      <th>94</th>\n",
       "      <td>140</td>\n",
       "      <td>-0.908230</td>\n",
       "      <td>914</td>\n",
       "    </tr>\n",
       "    <tr>\n",
       "      <th>95</th>\n",
       "      <td>141</td>\n",
       "      <td>-0.970518</td>\n",
       "      <td>914</td>\n",
       "    </tr>\n",
       "    <tr>\n",
       "      <th>96</th>\n",
       "      <td>142</td>\n",
       "      <td>-1.032806</td>\n",
       "      <td>914</td>\n",
       "    </tr>\n",
       "    <tr>\n",
       "      <th>97</th>\n",
       "      <td>143</td>\n",
       "      <td>-1.090162</td>\n",
       "      <td>914</td>\n",
       "    </tr>\n",
       "    <tr>\n",
       "      <th>98</th>\n",
       "      <td>144</td>\n",
       "      <td>-1.126057</td>\n",
       "      <td>914</td>\n",
       "    </tr>\n",
       "    <tr>\n",
       "      <th>99</th>\n",
       "      <td>145</td>\n",
       "      <td>-1.182674</td>\n",
       "      <td>914</td>\n",
       "    </tr>\n",
       "    <tr>\n",
       "      <th>100</th>\n",
       "      <td>146</td>\n",
       "      <td>-1.234349</td>\n",
       "      <td>914</td>\n",
       "    </tr>\n",
       "    <tr>\n",
       "      <th>101</th>\n",
       "      <td>147</td>\n",
       "      <td>-1.283611</td>\n",
       "      <td>914</td>\n",
       "    </tr>\n",
       "    <tr>\n",
       "      <th>102</th>\n",
       "      <td>148</td>\n",
       "      <td>-1.339513</td>\n",
       "      <td>914</td>\n",
       "    </tr>\n",
       "    <tr>\n",
       "      <th>103</th>\n",
       "      <td>149</td>\n",
       "      <td>-1.337362</td>\n",
       "      <td>914</td>\n",
       "    </tr>\n",
       "    <tr>\n",
       "      <th>104</th>\n",
       "      <td>150</td>\n",
       "      <td>-1.363025</td>\n",
       "      <td>914</td>\n",
       "    </tr>\n",
       "    <tr>\n",
       "      <th>105</th>\n",
       "      <td>151</td>\n",
       "      <td>-1.390269</td>\n",
       "      <td>914</td>\n",
       "    </tr>\n",
       "    <tr>\n",
       "      <th>106</th>\n",
       "      <td>152</td>\n",
       "      <td>-1.440346</td>\n",
       "      <td>914</td>\n",
       "    </tr>\n",
       "    <tr>\n",
       "      <th>107</th>\n",
       "      <td>153</td>\n",
       "      <td>-1.506898</td>\n",
       "      <td>914</td>\n",
       "    </tr>\n",
       "    <tr>\n",
       "      <th>108</th>\n",
       "      <td>154</td>\n",
       "      <td>-1.531761</td>\n",
       "      <td>914</td>\n",
       "    </tr>\n",
       "    <tr>\n",
       "      <th>109</th>\n",
       "      <td>155</td>\n",
       "      <td>-1.563193</td>\n",
       "      <td>914</td>\n",
       "    </tr>\n",
       "    <tr>\n",
       "      <th>110</th>\n",
       "      <td>156</td>\n",
       "      <td>-1.609039</td>\n",
       "      <td>914</td>\n",
       "    </tr>\n",
       "    <tr>\n",
       "      <th>111</th>\n",
       "      <td>157</td>\n",
       "      <td>-1.659074</td>\n",
       "      <td>914</td>\n",
       "    </tr>\n",
       "    <tr>\n",
       "      <th>112</th>\n",
       "      <td>158</td>\n",
       "      <td>-1.700052</td>\n",
       "      <td>914</td>\n",
       "    </tr>\n",
       "    <tr>\n",
       "      <th>113</th>\n",
       "      <td>159</td>\n",
       "      <td>-1.744252</td>\n",
       "      <td>914</td>\n",
       "    </tr>\n",
       "    <tr>\n",
       "      <th>114</th>\n",
       "      <td>160</td>\n",
       "      <td>-1.783363</td>\n",
       "      <td>914</td>\n",
       "    </tr>\n",
       "    <tr>\n",
       "      <th>115</th>\n",
       "      <td>161</td>\n",
       "      <td>-1.829788</td>\n",
       "      <td>914</td>\n",
       "    </tr>\n",
       "    <tr>\n",
       "      <th>116</th>\n",
       "      <td>162</td>\n",
       "      <td>-1.872964</td>\n",
       "      <td>914</td>\n",
       "    </tr>\n",
       "    <tr>\n",
       "      <th>117</th>\n",
       "      <td>163</td>\n",
       "      <td>-1.909869</td>\n",
       "      <td>914</td>\n",
       "    </tr>\n",
       "    <tr>\n",
       "      <th>118</th>\n",
       "      <td>164</td>\n",
       "      <td>-1.963555</td>\n",
       "      <td>914</td>\n",
       "    </tr>\n",
       "    <tr>\n",
       "      <th>119</th>\n",
       "      <td>165</td>\n",
       "      <td>-2.017239</td>\n",
       "      <td>914</td>\n",
       "    </tr>\n",
       "    <tr>\n",
       "      <th>120</th>\n",
       "      <td>166</td>\n",
       "      <td>-2.064795</td>\n",
       "      <td>914</td>\n",
       "    </tr>\n",
       "    <tr>\n",
       "      <th>121</th>\n",
       "      <td>167</td>\n",
       "      <td>-2.131604</td>\n",
       "      <td>914</td>\n",
       "    </tr>\n",
       "  </tbody>\n",
       "</table>\n",
       "</div>"
      ],
      "text/plain": [
       "       x  Elevation    y\n",
       "83   129  -0.234217  914\n",
       "84   130  -0.296420  914\n",
       "85   131  -0.372327  914\n",
       "86   132  -0.438481  914\n",
       "87   133  -0.478147  914\n",
       "88   134  -0.564646  914\n",
       "89   135  -0.654678  914\n",
       "90   136  -0.684028  914\n",
       "91   137  -0.729124  914\n",
       "92   138  -0.779061  914\n",
       "93   139  -0.843080  914\n",
       "94   140  -0.908230  914\n",
       "95   141  -0.970518  914\n",
       "96   142  -1.032806  914\n",
       "97   143  -1.090162  914\n",
       "98   144  -1.126057  914\n",
       "99   145  -1.182674  914\n",
       "100  146  -1.234349  914\n",
       "101  147  -1.283611  914\n",
       "102  148  -1.339513  914\n",
       "103  149  -1.337362  914\n",
       "104  150  -1.363025  914\n",
       "105  151  -1.390269  914\n",
       "106  152  -1.440346  914\n",
       "107  153  -1.506898  914\n",
       "108  154  -1.531761  914\n",
       "109  155  -1.563193  914\n",
       "110  156  -1.609039  914\n",
       "111  157  -1.659074  914\n",
       "112  158  -1.700052  914\n",
       "113  159  -1.744252  914\n",
       "114  160  -1.783363  914\n",
       "115  161  -1.829788  914\n",
       "116  162  -1.872964  914\n",
       "117  163  -1.909869  914\n",
       "118  164  -1.963555  914\n",
       "119  165  -2.017239  914\n",
       "120  166  -2.064795  914\n",
       "121  167  -2.131604  914"
      ]
     },
     "execution_count": 123,
     "metadata": {},
     "output_type": "execute_result"
    }
   ],
   "source": [
    "Middle_1.iloc[81:120, :]"
   ]
  },
  {
   "cell_type": "code",
   "execution_count": 129,
   "metadata": {},
   "outputs": [
    {
     "data": {
      "image/png": "[encoded data removed]",
      "text/plain": [
       "<Figure size 864x504 with 1 Axes>"
      ]
     },
     "metadata": {
      "needs_background": "light"
     },
     "output_type": "display_data"
    }
   ],
   "source": [
    "plt.figure(figsize=(12, 7))\n",
    "plt.title(\"Bottom Profile in 1994-11-21 (y=914, y=929, y=960) x<130m\")\n",
    "plt.plot(Middle_1.iloc[:81, :].x.values, Middle_1.iloc[:81, :].Elevation.values, label=\"y=914\")\n",
    "plt.plot(Middle_2.iloc[:81, :].x.values, Middle_2.iloc[:81, :].Elevation.values, label=\"y=960\")\n",
    "plt.plot(Profile23.iloc[:81, :].xFRF.values, Profile23.iloc[:81, :].Elevation.values, label=\"y=929\")\n",
    "plt.legend(loc='best')\n",
    "plt.show()"
   ]
  },
  {
   "cell_type": "code",
   "execution_count": 131,
   "metadata": {},
   "outputs": [
    {
     "data": {
      "image/png": "[encoded data removed]",
      "text/plain": [
       "<Figure size 864x504 with 1 Axes>"
      ]
     },
     "metadata": {
      "needs_background": "light"
     },
     "output_type": "display_data"
    }
   ],
   "source": [
    "plt.figure(figsize=(12, 7))\n",
    "plt.title(\"Bottom Profile in 1994-11-21 (y=914, y=929, y=960) 130m<x<170m\")\n",
    "plt.plot(Middle_1.iloc[81:120, :].x.values, Middle_1.iloc[81:120, :].Elevation.values, label=\"y=914\")\n",
    "plt.plot(Middle_2.iloc[81:120, :].x.values, Middle_2.iloc[81:120, :].Elevation.values, label=\"y=960\")\n",
    "plt.plot(Profile23.iloc[81:120, :].xFRF.values, Profile23.iloc[81:120, :].Elevation.values, label=\"y=929\")\n",
    "plt.legend(loc='best')\n",
    "plt.show()"
   ]
  },
  {
   "cell_type": "code",
   "execution_count": 132,
   "metadata": {},
   "outputs": [
    {
     "data": {
      "image/png": "[encoded data removed]",
      "text/plain": [
       "<Figure size 864x504 with 1 Axes>"
      ]
     },
     "metadata": {
      "needs_background": "light"
     },
     "output_type": "display_data"
    }
   ],
   "source": [
    "plt.figure(figsize=(12, 7))\n",
    "plt.title(\"Bottom Profile in 1994-11-21 (y=914, y=929, y=960) (170m<x<300m)\")\n",
    "plt.plot(Middle_1.iloc[120:250, :].x.values, Middle_1.iloc[120:250, :].Elevation.values, label=\"y=914\")\n",
    "plt.plot(Middle_2.iloc[120:250, :].x.values, Middle_2.iloc[120:250, :].Elevation.values, label=\"y=960\")\n",
    "plt.plot(Profile23.iloc[120:250, :].xFRF.values, Profile23.iloc[120:250, :].Elevation.values, label=\"y=929\")\n",
    "plt.legend(loc='best')\n",
    "plt.show()"
   ]
  },
  {
   "cell_type": "code",
   "execution_count": 133,
   "metadata": {},
   "outputs": [
    {
     "data": {
      "image/png": "[encoded data removed]",
      "text/plain": [
       "<Figure size 864x504 with 1 Axes>"
      ]
     },
     "metadata": {
      "needs_background": "light"
     },
     "output_type": "display_data"
    }
   ],
   "source": [
    "plt.figure(figsize=(12, 7))\n",
    "plt.title(\"Bottom Profile in 1994-11-21 (y=914, y=929, y=960) (x>300m)\")\n",
    "plt.plot(Middle_1.iloc[250:, :].x.values, Middle_1.iloc[250:, :].Elevation.values, label=\"y=914\")\n",
    "plt.plot(Middle_2.iloc[250:, :].x.values, Middle_2.iloc[250:, :].Elevation.values, label=\"y=960\")\n",
    "plt.plot(Profile23.iloc[250:, :].xFRF.values, Profile23.iloc[250:, :].Elevation.values, label=\"y=929\")\n",
    "plt.legend(loc='best')\n",
    "plt.show()"
   ]
  },
  {
   "cell_type": "code",
   "execution_count": 118,
   "metadata": {},
   "outputs": [
    {
     "data": {
      "text/html": [
       "<div>\n",
       "<style scoped>\n",
       "    .dataframe tbody tr th:only-of-type {\n",
       "        vertical-align: middle;\n",
       "    }\n",
       "\n",
       "    .dataframe tbody tr th {\n",
       "        vertical-align: top;\n",
       "    }\n",
       "\n",
       "    .dataframe thead th {\n",
       "        text-align: right;\n",
       "    }\n",
       "</style>\n",
       "<table border=\"1\" class=\"dataframe\">\n",
       "  <thead>\n",
       "    <tr style=\"text-align: right;\">\n",
       "      <th></th>\n",
       "      <th>x</th>\n",
       "      <th>Elevation</th>\n",
       "      <th>y</th>\n",
       "    </tr>\n",
       "  </thead>\n",
       "  <tbody>\n",
       "    <tr>\n",
       "      <th>122</th>\n",
       "      <td>168</td>\n",
       "      <td>-2.191563</td>\n",
       "      <td>914</td>\n",
       "    </tr>\n",
       "    <tr>\n",
       "      <th>123</th>\n",
       "      <td>169</td>\n",
       "      <td>-2.247390</td>\n",
       "      <td>914</td>\n",
       "    </tr>\n",
       "    <tr>\n",
       "      <th>124</th>\n",
       "      <td>170</td>\n",
       "      <td>-2.297266</td>\n",
       "      <td>914</td>\n",
       "    </tr>\n",
       "    <tr>\n",
       "      <th>125</th>\n",
       "      <td>171</td>\n",
       "      <td>-2.340036</td>\n",
       "      <td>914</td>\n",
       "    </tr>\n",
       "    <tr>\n",
       "      <th>126</th>\n",
       "      <td>172</td>\n",
       "      <td>-2.401459</td>\n",
       "      <td>914</td>\n",
       "    </tr>\n",
       "    <tr>\n",
       "      <th>...</th>\n",
       "      <td>...</td>\n",
       "      <td>...</td>\n",
       "      <td>...</td>\n",
       "    </tr>\n",
       "    <tr>\n",
       "      <th>247</th>\n",
       "      <td>293</td>\n",
       "      <td>-3.136894</td>\n",
       "      <td>914</td>\n",
       "    </tr>\n",
       "    <tr>\n",
       "      <th>248</th>\n",
       "      <td>294</td>\n",
       "      <td>-3.110830</td>\n",
       "      <td>914</td>\n",
       "    </tr>\n",
       "    <tr>\n",
       "      <th>249</th>\n",
       "      <td>295</td>\n",
       "      <td>-3.088787</td>\n",
       "      <td>914</td>\n",
       "    </tr>\n",
       "    <tr>\n",
       "      <th>250</th>\n",
       "      <td>296</td>\n",
       "      <td>-3.054711</td>\n",
       "      <td>914</td>\n",
       "    </tr>\n",
       "    <tr>\n",
       "      <th>251</th>\n",
       "      <td>297</td>\n",
       "      <td>-3.025875</td>\n",
       "      <td>914</td>\n",
       "    </tr>\n",
       "  </tbody>\n",
       "</table>\n",
       "<p>130 rows × 3 columns</p>\n",
       "</div>"
      ],
      "text/plain": [
       "       x  Elevation    y\n",
       "122  168  -2.191563  914\n",
       "123  169  -2.247390  914\n",
       "124  170  -2.297266  914\n",
       "125  171  -2.340036  914\n",
       "126  172  -2.401459  914\n",
       "..   ...        ...  ...\n",
       "247  293  -3.136894  914\n",
       "248  294  -3.110830  914\n",
       "249  295  -3.088787  914\n",
       "250  296  -3.054711  914\n",
       "251  297  -3.025875  914\n",
       "\n",
       "[130 rows x 3 columns]"
      ]
     },
     "execution_count": 118,
     "metadata": {},
     "output_type": "execute_result"
    }
   ],
   "source": [
    "Middle_1.iloc[120:250, :]"
   ]
  },
  {
   "cell_type": "code",
   "execution_count": null,
   "metadata": {},
   "outputs": [],
   "source": []
  }
 ],
 "metadata": {
  "colab": {
   "collapsed_sections": [],
   "provenance": []
  },
  "kernelspec": {
   "display_name": "Python 3",
   "language": "python",
   "name": "python3"
  },
  "language_info": {
   "codemirror_mode": {
    "name": "ipython",
    "version": 3
   },
   "file_extension": ".py",
   "mimetype": "text/x-python",
   "name": "python",
   "nbconvert_exporter": "python",
   "pygments_lexer": "ipython3",
   "version": "3.8.8"
  }
 },
 "nbformat": 4,
 "nbformat_minor": 1
}
