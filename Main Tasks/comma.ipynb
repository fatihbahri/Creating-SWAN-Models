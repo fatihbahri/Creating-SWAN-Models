{
 "cells": [
  {
   "cell_type": "markdown",
   "id": "c790c930",
   "metadata": {},
   "source": [
    "# Profile.BOT Comma Correction"
   ]
  },
  {
   "cell_type": "code",
   "execution_count": 4,
   "id": "9f7fe301",
   "metadata": {},
   "outputs": [],
   "source": [
    "models_loc = r\"C:\\Users\\pc\\OneDrive_GTU\\OneDrive - Gebze Teknik Üniversitesi\\Tez\\Proje\\models2\""
   ]
  },
  {
   "cell_type": "code",
   "execution_count": 5,
   "id": "6b5cb83e",
   "metadata": {},
   "outputs": [],
   "source": [
    "import os"
   ]
  },
  {
   "cell_type": "code",
   "execution_count": 6,
   "id": "3e12a312",
   "metadata": {},
   "outputs": [],
   "source": [
    "os.chdir(models_loc)"
   ]
  },
  {
   "cell_type": "code",
   "execution_count": 7,
   "id": "b82bef66",
   "metadata": {
    "scrolled": true
   },
   "outputs": [],
   "source": [
    "models = os.listdir()"
   ]
  },
  {
   "cell_type": "code",
   "execution_count": 8,
   "id": "ba3a3dbf",
   "metadata": {
    "scrolled": true
   },
   "outputs": [],
   "source": [
    "for i in range(len(models)):\n",
    "    os.chdir(models_loc)\n",
    "    os.chdir(models[i])\n",
    "\n",
    "    # Read in the file\n",
    "    with open('profile11.bot', 'r') as file :\n",
    "      filedata = file.read()\n",
    "\n",
    "    # Replace the target string\n",
    "    filedata = filedata.replace(',', '.')\n",
    "\n",
    "    # Write the file out again\n",
    "    with open('profile11.bot', 'w') as file:\n",
    "      file.write(filedata)"
   ]
  },
  {
   "cell_type": "code",
   "execution_count": null,
   "id": "1f810a9d",
   "metadata": {},
   "outputs": [],
   "source": []
  }
 ],
 "metadata": {
  "kernelspec": {
   "display_name": "Python 3",
   "language": "python",
   "name": "python3"
  },
  "language_info": {
   "codemirror_mode": {
    "name": "ipython",
    "version": 3
   },
   "file_extension": ".py",
   "mimetype": "text/x-python",
   "name": "python",
   "nbconvert_exporter": "python",
   "pygments_lexer": "ipython3",
   "version": "3.8.8"
  }
 },
 "nbformat": 4,
 "nbformat_minor": 5
}
